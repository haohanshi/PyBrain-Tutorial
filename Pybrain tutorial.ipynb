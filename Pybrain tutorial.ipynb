{
 "cells": [
  {
   "cell_type": "markdown",
   "metadata": {},
   "source": [
    "# Pybrain Tutorial (Haohan Shi)\n",
    "## Introduction\n",
    "\n",
    "[PyBrain](http://pybrain.org/docs/index.html) is a modular Machine Learning Library for Python. Its goal is to offer flexible, easy-to-use yet still powerful algorithms for Machine Learning Tasks and a variety of predefined environments to test and compare your algorithms.\n",
    "\n",
    "PyBrain is short for Python-Based Reinforcement Learning, Artificial Intelligence and Neural Network Library. Emphasizing both sequential and non-sequential data and tasks, PyBrain implements many recent learning algorithms and architectures ranging from areas such as supervised learning and reinforcement learning to direct search / optimization and evolutionary methods.\n"
   ]
  },
  {
   "cell_type": "markdown",
   "metadata": {},
   "source": [
    "## Tutorial content\n",
    "\n",
    "In this tutorial, we will show how to do some basic operation using Pybrain\n",
    "\n",
    "We will cover the following topics in this tutorial:\n",
    "+ [Installation](#Installation)\n",
    "+ [Overview](#Overview)\n",
    "+ [Quickstart](#Quickstart)\n",
    " - [Build a network](#1.-Build-a-network)\n",
    " - [Build a dataset](#2.-Build-a-dataset)\n",
    " - [A very simple training example](#3.-A-very-simple-training-example)\n",
    "+ [Classification with Feed-Forward Neural Networks Example](#Classification-with-Feed-Forward-Neural-Networks-Example)\n",
    "+ [Summary and References](#Summary-and-references)"
   ]
  },
  {
   "cell_type": "markdown",
   "metadata": {},
   "source": [
    "---"
   ]
  },
  {
   "cell_type": "markdown",
   "metadata": {
    "collapsed": true
   },
   "source": [
    "## Installation\n",
    "\n"
   ]
  },
  {
   "cell_type": "markdown",
   "metadata": {},
   "source": [
    "If you want to clone the PyBrain repository to get the latest version of PyBrain, you can do so by using this command (you need to have git installed on your system) on terminal:"
   ]
  },
  {
   "cell_type": "markdown",
   "metadata": {
    "collapsed": true
   },
   "source": [
    "> $ git clone git://github.com/pybrain/pybrain.git"
   ]
  },
  {
   "cell_type": "markdown",
   "metadata": {},
   "source": [
    "Then change the directory to the source code of Pybrain and run in terminal:"
   ]
  },
  {
   "cell_type": "markdown",
   "metadata": {},
   "source": [
    "#### Python 2\n",
    "\n",
    "> python setup.py install\n",
    "\n",
    "#### Python 3\n",
    "\n",
    "> python3 setup.py install"
   ]
  },
  {
   "cell_type": "markdown",
   "metadata": {},
   "source": [
    "## Overview"
   ]
  },
  {
   "cell_type": "markdown",
   "metadata": {},
   "source": [
    "PyBrain’s concept is to encapsulate different data processing algorithms in what we call a Module. A minimal Module contains a forward implementation depending on a collection of free parameters that can be adjusted, usually through some machine learning algorithm.\n",
    "\n",
    "They are assembled into objects of the class Network and are connected via Connection objects. These may contain a number of adjustable parameters themselves, such as weights.\n",
    "\n",
    "<img src=\"http://pybrain.org/docs/_images/dataprocessing_flowchart.jpg\">"
   ]
  },
  {
   "cell_type": "markdown",
   "metadata": {},
   "source": [
    "## Quickstart\n"
   ]
  },
  {
   "cell_type": "markdown",
   "metadata": {},
   "source": [
    "### 1. Build a network"
   ]
  },
  {
   "cell_type": "markdown",
   "metadata": {},
   "source": [
    "In PyBrain, networks are composed of `Modules` which are connected with `Connections`. You can think of a network as a directed acyclic graph, where the nodes are `Modules` and the edges are `Connections`. This makes PyBrain very flexible but it is also not necessary in all cases.\n",
    "\n",
    "For simplicity of this tutorial, we will not cover information about how to custom a `Network` usinng `Modules` and `Connections`, you can find more detailed example [here](http://pybrain.org/docs/tutorial/netmodcon.html). There is a simple way to create networks, which is the `buildNetwork` shortcut provided by `pybrain.tools`:"
   ]
  },
  {
   "cell_type": "code",
   "execution_count": null,
   "metadata": {
    "collapsed": false
   },
   "outputs": [],
   "source": [
    "from pybrain.tools.shortcuts import buildNetwork\n",
    "net = buildNetwork(2, 3, 1)"
   ]
  },
  {
   "cell_type": "markdown",
   "metadata": {},
   "source": [
    "This call returns a network that has 2 inputs, 3 hidden and 1 single output neuron. In PyBrain, these layers are `Module` objects and they are already connected with `FullConnection` objects.\n",
    "\n",
    "The net is already initialized with random values - we can already calculate its output by given two inputs through a tuple or an array:"
   ]
  },
  {
   "cell_type": "code",
   "execution_count": null,
   "metadata": {
    "collapsed": false
   },
   "outputs": [],
   "source": [
    "print net.activate([1, 1])\n",
    "# (random) array([-1.82107117])\n",
    "print net.activate((3,2))\n",
    "# (random) array([-1.5885086])"
   ]
  },
  {
   "cell_type": "markdown",
   "metadata": {},
   "source": [
    "We can also check the input, output and hidden layers class type:"
   ]
  },
  {
   "cell_type": "code",
   "execution_count": null,
   "metadata": {
    "collapsed": false
   },
   "outputs": [],
   "source": [
    "print net[\"in\"]\n",
    "print net[\"out\"]\n",
    "print net[\"hidden0\"]"
   ]
  },
  {
   "cell_type": "markdown",
   "metadata": {},
   "source": [
    "Of course, we want more flexibility when building up networks. For instance, the hidden layer is constructed with the sigmoid squashing function by default: but in a lot of cases, this is not what we want. We can also supply different types of layers:"
   ]
  },
  {
   "cell_type": "code",
   "execution_count": null,
   "metadata": {
    "collapsed": false
   },
   "outputs": [],
   "source": [
    "from pybrain.structure import TanhLayer\n",
    "net = buildNetwork(2, 3, 1, hiddenclass=TanhLayer)\n",
    "print net[\"in\"]\n",
    "print net[\"out\"]\n",
    "print net['hidden0']\n",
    "\n",
    "from pybrain.structure import SoftmaxLayer\n",
    "net = buildNetwork(2, 3, 2, hiddenclass=TanhLayer, outclass=SoftmaxLayer)\n",
    "print net[\"in\"]\n",
    "print net[\"out\"]\n",
    "print net['hidden0']"
   ]
  },
  {
   "cell_type": "markdown",
   "metadata": {},
   "source": [
    "### 2. Build a dataset"
   ]
  },
  {
   "cell_type": "markdown",
   "metadata": {},
   "source": [
    "In order for our networks to learn anything, we need a dataset that contains inputs and targets.\n",
    "\n",
    "The `SupervisedDataSet` class is used for standard supervised learning. It supports input and target values, whose size we have to specify on object creation, below we construct a dataset that supports two dimensional inputs and one dimensional targets:"
   ]
  },
  {
   "cell_type": "code",
   "execution_count": null,
   "metadata": {
    "collapsed": false
   },
   "outputs": [],
   "source": [
    "from pybrain.datasets import SupervisedDataSet\n",
    "ds = SupervisedDataSet(2, 1)\n",
    "\n",
    "#Add samples\n",
    "ds.addSample((0, 0), (0,))\n",
    "ds.addSample((0, 1), (1,))\n",
    "ds.addSample((1, 0), (1,))\n",
    "ds.addSample((1, 1), (0,))"
   ]
  },
  {
   "cell_type": "markdown",
   "metadata": {},
   "source": [
    "We now have a dataset that has 4 samples in it. We can check that with python’s idiomatic way of checking the size, and other features:"
   ]
  },
  {
   "cell_type": "code",
   "execution_count": null,
   "metadata": {
    "collapsed": false
   },
   "outputs": [],
   "source": [
    "#length of the dataset\n",
    "print len(ds)\n",
    "# 4\n",
    "\n",
    "#input of the dataset\n",
    "print ds['input']\n",
    "# array([[ 0.,  0.],\n",
    "#        [ 0.,  1.],\n",
    "#        [ 1.,  0.],\n",
    "#        [ 1.,  1.]])\n",
    "\n",
    "#target of the inputs\n",
    "print ds['target']\n",
    "# array([[ 0.],\n",
    "#        [ 1.],\n",
    "#        [ 1.],\n",
    "#        [ 0.]])\n",
    "\n",
    "#iterate over the dataset\n",
    "for inpt, target in ds:\n",
    "    print inpt, target\n",
    "\n",
    "# [ 0.  0.] [ 0.]\n",
    "# [ 0.  1.] [ 1.]\n",
    "# [ 1.  0.] [ 1.]\n",
    "# [ 1.  1.] [ 0.]\n",
    "\n",
    "#clear all the data\n",
    "ds.clear()\n",
    "print ds['input']\n",
    "# array([], shape=(0, 2), dtype=float64)\n",
    "print ds['target']\n",
    "# array([], shape=(0, 1), dtype=float64)"
   ]
  },
  {
   "cell_type": "markdown",
   "metadata": {},
   "source": [
    "### 3. A very simple training example"
   ]
  },
  {
   "cell_type": "markdown",
   "metadata": {},
   "source": [
    "For adjusting parameters of modules in supervised learning, PyBrain has the concept of trainers. Trainers take a module and a dataset in order to train the module to fit the data in the dataset.\n",
    "\n",
    "Below is an example of ADD operation using `backpropagation`:"
   ]
  },
  {
   "cell_type": "code",
   "execution_count": null,
   "metadata": {
    "collapsed": false
   },
   "outputs": [],
   "source": [
    "from pybrain.tools.shortcuts import buildNetwork\n",
    "from pybrain.datasets import SupervisedDataSet\n",
    "from pybrain.supervised.trainers import BackpropTrainer"
   ]
  },
  {
   "cell_type": "markdown",
   "metadata": {},
   "source": [
    "First we need to build a `RecurrentNetwork` with 4 hidden nodes (default is `SigmoidLayer`, for more information about `Layer`, pybrain structral `Modules`, click [here](http://pybrain.org/docs/api/structure/modules.html?pybrain.structure.modules.SoftmaxLayer)), a class that implements networks which can work with sequential data:"
   ]
  },
  {
   "cell_type": "code",
   "execution_count": null,
   "metadata": {
    "collapsed": true
   },
   "outputs": [],
   "source": [
    "net = buildNetwork(2, 4, 1, recurrent = True)"
   ]
  },
  {
   "cell_type": "markdown",
   "metadata": {},
   "source": [
    "Then we need to create a `SupervisedDataSet` for training:"
   ]
  },
  {
   "cell_type": "code",
   "execution_count": null,
   "metadata": {
    "collapsed": true
   },
   "outputs": [],
   "source": [
    "addTrain = SupervisedDataSet(2, 1)"
   ]
  },
  {
   "cell_type": "markdown",
   "metadata": {},
   "source": [
    "Add some data into `SupervisedDataSet`:"
   ]
  },
  {
   "cell_type": "code",
   "execution_count": null,
   "metadata": {
    "collapsed": false
   },
   "outputs": [],
   "source": [
    "addTrain.addSample((0, 0), (0,))\n",
    "addTrain.addSample((0, 1), (1,))\n",
    "addTrain.addSample((1, 0), (1,))\n",
    "addTrain.addSample((1, 1), (2,))\n",
    "addTrain.addSample((0, 2), (2,))\n",
    "addTrain.addSample((2, 0), (2,))\n",
    "addTrain.addSample((3, 1), (4,))\n",
    "addTrain.addSample((2, 2), (4,))\n",
    "print addTrain"
   ]
  },
  {
   "cell_type": "markdown",
   "metadata": {},
   "source": [
    "Create a `BackpropTrainer` based on the network and train dataset, `BackpropTrainer` trains the parameters of a module according to a supervised dataset (potentially sequential) by backpropagating the errors (through time), for more information about `BackpropTrainer`, click [here](http://pybrain.org/docs/api/supervised/trainers.html?pybrain.supervised.trainers.BackpropTrainer):"
   ]
  },
  {
   "cell_type": "code",
   "execution_count": null,
   "metadata": {
    "collapsed": false,
    "scrolled": true
   },
   "outputs": [],
   "source": [
    "# Train the network using arguments for learningrate and momentum\n",
    "trainer = BackpropTrainer(net, addTrain, learningrate = 0.01, momentum = 0.99, verbose = True)\n",
    "\n",
    "# Train the trainer multiple times\n",
    "# If you are running in the terminal, the error will be printed each time the training completes\n",
    "for epoch in range(10):\n",
    "    trainer.train()\n",
    "    \n",
    "# test the training result\n",
    "trainer.testOnData(addTrain, verbose = True)\n"
   ]
  },
  {
   "cell_type": "markdown",
   "metadata": {},
   "source": [
    "To show the differences, we can try training the trainer using different training epochs:"
   ]
  },
  {
   "cell_type": "code",
   "execution_count": null,
   "metadata": {
    "collapsed": false
   },
   "outputs": [],
   "source": [
    "for epoch in range(100):\n",
    "    trainer.train()\n",
    "\n",
    "trainer.testOnData(addTrain, verbose = True)\n"
   ]
  },
  {
   "cell_type": "markdown",
   "metadata": {
    "collapsed": true
   },
   "source": [
    "## Classification with Feed-Forward Neural Networks Example"
   ]
  },
  {
   "cell_type": "markdown",
   "metadata": {},
   "source": [
    "In the following example, we will use the knowledge above to walks through the process of setting up a dataset for classification, and train a network on it while visualizing the results.\n",
    "Here are some tools we need from pybrain:"
   ]
  },
  {
   "cell_type": "code",
   "execution_count": 5,
   "metadata": {
    "collapsed": false
   },
   "outputs": [],
   "source": [
    "from pybrain.datasets            import ClassificationDataSet  # dataset specific for classification\n",
    "from pybrain.utilities           import percentError  # percentage error\n",
    "from pybrain.tools.shortcuts     import buildNetwork\n",
    "from pybrain.supervised.trainers import BackpropTrainer\n",
    "from pybrain.structure.modules   import SoftmaxLayer"
   ]
  },
  {
   "cell_type": "markdown",
   "metadata": {},
   "source": [
    "For the purpose of result visualization, we need some extra tools from `Scipy`, `Pylab` and `Numpy`:"
   ]
  },
  {
   "cell_type": "code",
   "execution_count": 2,
   "metadata": {
    "collapsed": true
   },
   "outputs": [],
   "source": [
    "from pylab import ion, ioff, figure, draw, contourf, clf, show, hold, plot\n",
    "from scipy import diag, arange, meshgrid, where\n",
    "from numpy.random import multivariate_normal"
   ]
  },
  {
   "cell_type": "markdown",
   "metadata": {},
   "source": [
    "In order to have a nice data visualization, the method we use here is to produce three groups of 2D points using `Numpy` `multivariate_normal` [function](https://docs.scipy.org/doc/numpy/reference/generated/numpy.random.multivariate_normal.html), which gives random samples from a multivariate normal distribution. Such a distribution is specified by its mean and covariance matrix. Then we store these sample points into pybrain `ClassificationDataSet`, as we can see below:"
   ]
  },
  {
   "cell_type": "code",
   "execution_count": 16,
   "metadata": {
    "collapsed": false
   },
   "outputs": [],
   "source": [
    "# mean matrix\n",
    "means = [(-1,0),(2,4),(3,1)]\n",
    "# covariance matrix\n",
    "cov = [diag([1,1]), diag([0.5,1.2]), diag([1.5,0.7])]\n",
    "# ClassificationDataSet with 2 inputs, 1 target and total of 3 classes\n",
    "alldata = ClassificationDataSet(2, 1, nb_classes=3)\n",
    "# generate 1200 points, 400 for each group\n",
    "for n in xrange(400):\n",
    "    for klass in range(3):\n",
    "        input = multivariate_normal(means[klass],cov[klass])\n",
    "        alldata.addSample(input, [klass])"
   ]
  },
  {
   "cell_type": "markdown",
   "metadata": {},
   "source": [
    "We know from class that we need to split the set into two parts, one for training and one for validation. Here we split the dataset into 75% training and 25% test data sets. Due to an unknown bug in current pybrain version, the `splitWithProportion` function will give two results that have incorrect type, i.e. the result will not be `ClassificationDataSet`, thus we need one extra step:"
   ]
  },
  {
   "cell_type": "code",
   "execution_count": 17,
   "metadata": {
    "collapsed": false
   },
   "outputs": [],
   "source": [
    "tstdata_temp, trndata_temp = alldata.splitWithProportion(0.25)\n",
    "# test dataset\n",
    "tstdata = ClassificationDataSet(2, 1, nb_classes=3)\n",
    "for n in xrange(0, tstdata_temp.getLength()):\n",
    "    tstdata.addSample( tstdata_temp.getSample(n)[0], tstdata_temp.getSample(n)[1] )\n",
    "# training dataset\n",
    "trndata = ClassificationDataSet(2, 1, nb_classes=3)\n",
    "for n in xrange(0, trndata_temp.getLength()):\n",
    "    trndata.addSample( trndata_temp.getSample(n)[0], trndata_temp.getSample(n)[1] )"
   ]
  },
  {
   "cell_type": "markdown",
   "metadata": {},
   "source": [
    "For neural network classification, it is highly advisable to encode classes with one output neuron per class. In this example, they will be labeled as 0, 1 or 2. Just like the \"label\" coloum in our homework pandas dataframe, we can achieve this by `_convertToOneOfMany` function, which is builtin in `ClassificationDataSet`:"
   ]
  },
  {
   "cell_type": "code",
   "execution_count": 18,
   "metadata": {
    "collapsed": false
   },
   "outputs": [
    {
     "name": "stdout",
     "output_type": "stream",
     "text": [
      "[]\n",
      "[]\n",
      "[[2]\n",
      " [2]\n",
      " [2]\n",
      " [1]\n",
      " [0]]\n",
      "[[0]\n",
      " [0]\n",
      " [2]\n",
      " [1]\n",
      " [2]]\n"
     ]
    }
   ],
   "source": [
    "print tstdata[\"class\"]\n",
    "print trndata[\"class\"]\n",
    "trndata._convertToOneOfMany( )\n",
    "tstdata._convertToOneOfMany( )\n",
    "print tstdata[\"class\"][:5]\n",
    "print trndata[\"class\"][:5]"
   ]
  },
  {
   "cell_type": "markdown",
   "metadata": {},
   "source": [
    "Now we can get some important values that we are interested in:"
   ]
  },
  {
   "cell_type": "code",
   "execution_count": 20,
   "metadata": {
    "collapsed": false
   },
   "outputs": [
    {
     "name": "stdout",
     "output_type": "stream",
     "text": [
      "Number of training patterns:  900\n",
      "Input and output dimensions:  2 3\n",
      "First three samples (input, target, class):\n",
      "[-0.14879279 -1.35804952] [1 0 0] [0]\n",
      "[-2.07764577  0.88994707] [1 0 0] [0]\n",
      "[ 2.41629321  2.19831848] [0 0 1] [2]\n"
     ]
    }
   ],
   "source": [
    "print \"Number of training patterns: \", len(trndata)\n",
    "print \"Input and output dimensions: \", trndata.indim, trndata.outdim\n",
    "print \"First three samples (input, target, class):\"\n",
    "print trndata['input'][0], trndata['target'][0], trndata['class'][0]\n",
    "print trndata['input'][1], trndata['target'][1], trndata['class'][1]\n",
    "print trndata['input'][2], trndata['target'][2], trndata['class'][2]"
   ]
  },
  {
   "cell_type": "markdown",
   "metadata": {},
   "source": [
    "Here comes the actual classification part. First we need to build a network which has 5 hidden units, the input and output layer size must match the dataset’s input and target dimension, we can add additional hidden layers by inserting more numbers giving the desired layer sizes. Since we are doing classification here, we need the output layer to use a softmax function:"
   ]
  },
  {
   "cell_type": "code",
   "execution_count": 21,
   "metadata": {
    "collapsed": true
   },
   "outputs": [],
   "source": [
    "fnn = buildNetwork( trndata.indim, 5, trndata.outdim, outclass=SoftmaxLayer )"
   ]
  },
  {
   "cell_type": "markdown",
   "metadata": {},
   "source": [
    "Also we need to set up a trainer that basically takes the network and training dataset as input."
   ]
  },
  {
   "cell_type": "code",
   "execution_count": 22,
   "metadata": {
    "collapsed": true
   },
   "outputs": [],
   "source": [
    "trainer = BackpropTrainer( fnn, dataset=trndata, momentum=0.1, verbose=True, weightdecay=0.01)"
   ]
  },
  {
   "cell_type": "markdown",
   "metadata": {},
   "source": [
    "For visualization purpose, we need an extra square grid of data points, which we can then classify to obtain a nice contour field for visualization."
   ]
  },
  {
   "cell_type": "code",
   "execution_count": 23,
   "metadata": {
    "collapsed": true
   },
   "outputs": [],
   "source": [
    "ticks = arange(-3.,6.,0.2)\n",
    "X, Y = meshgrid(ticks, ticks)\n",
    "griddata = ClassificationDataSet(2,1, nb_classes=3)\n",
    "for i in xrange(X.size):\n",
    "    # need column vectors in dataset, not arrays\n",
    "    griddata.addSample([X.ravel()[i],Y.ravel()[i]], [0])\n",
    "griddata._convertToOneOfMany()"
   ]
  },
  {
   "cell_type": "markdown",
   "metadata": {},
   "source": [
    "Start the training iteration, for visualization purpose, we choose 1 as training epoch:"
   ]
  },
  {
   "cell_type": "code",
   "execution_count": 24,
   "metadata": {
    "collapsed": false
   },
   "outputs": [
    {
     "name": "stdout",
     "output_type": "stream",
     "text": [
      "Total error:  0.0560023861375\n",
      "epoch:    1   train error:  5.44%   test error:  6.00%\n",
      "Total error:  0.0298676956811\n",
      "epoch:    2   train error:  5.44%   test error:  6.67%\n",
      "Total error:  0.0214528567064\n",
      "epoch:    3   train error:  5.89%   test error:  6.33%\n",
      "Total error:  0.018849475712\n",
      "epoch:    4   train error:  6.00%   test error:  7.00%\n",
      "Total error:  0.0179388087714\n",
      "epoch:    5   train error:  5.89%   test error:  6.67%\n",
      "Total error:  0.0175819920173\n",
      "epoch:    6   train error:  5.89%   test error:  6.67%\n",
      "Total error:  0.0173262223326\n",
      "epoch:    7   train error:  6.44%   test error:  7.00%\n",
      "Total error:  0.017252306597\n",
      "epoch:    8   train error:  5.89%   test error:  6.67%\n",
      "Total error:  0.0171752615486\n",
      "epoch:    9   train error:  6.56%   test error:  6.67%\n",
      "Total error:  0.017073187196\n",
      "epoch:   10   train error:  6.11%   test error:  6.67%\n",
      "Total error:  0.0168568247367\n",
      "epoch:   11   train error:  5.89%   test error:  6.67%\n",
      "Total error:  0.0171498909191\n",
      "epoch:   12   train error:  5.89%   test error:  6.33%\n",
      "Total error:  0.0169785880544\n",
      "epoch:   13   train error:  6.44%   test error:  7.00%\n",
      "Total error:  0.0169504911077\n",
      "epoch:   14   train error:  6.11%   test error:  6.67%\n",
      "Total error:  0.0169898199929\n",
      "epoch:   15   train error:  6.44%   test error:  7.00%\n",
      "Total error:  0.0170095628584\n",
      "epoch:   16   train error:  6.56%   test error:  7.00%\n",
      "Total error:  0.0168697713167\n",
      "epoch:   17   train error:  5.89%   test error:  6.67%\n",
      "Total error:  0.0168343391655\n",
      "epoch:   18   train error:  6.56%   test error:  7.00%\n",
      "Total error:  0.0170979278214\n",
      "epoch:   19   train error:  6.11%   test error:  6.67%\n",
      "Total error:  0.0170758005106\n",
      "epoch:   20   train error:  6.11%   test error:  6.67%\n"
     ]
    }
   ],
   "source": [
    "for i in range(20):\n",
    "    trainer.trainEpochs(1)\n",
    "    # percet error on training set\n",
    "    trnresult = percentError( trainer.testOnClassData(),trndata['class'] )\n",
    "    # percet error on test set\n",
    "    tstresult = percentError( trainer.testOnClassData( dataset=tstdata ), tstdata['class'] )\n",
    "\n",
    "    print \"epoch: %4d\" % trainer.totalepochs, \\\n",
    "          \"  train error: %5.2f%%\" % trnresult, \\\n",
    "          \"  test error: %5.2f%%\" % tstresult\n",
    "            \n",
    "    # The following is for plot and visualization purpose\n",
    "    # get the classification of grid data\n",
    "    out = fnn.activateOnDataset(griddata)\n",
    "    out = out.argmax(axis=1)\n",
    "    out = out.reshape(X.shape)\n",
    "    figure(1)\n",
    "    ioff()  # interactive graphics off\n",
    "    clf()   # clear the plot\n",
    "    hold(True) # overplot on\n",
    "    for c in [0,1,2]:\n",
    "        here, _ = where(tstdata['class']==c)\n",
    "        plot(tstdata['input'][here,0],tstdata['input'][here,1],'o')\n",
    "    if out.max()!=out.min():  # safety check against flat field\n",
    "        contourf(X, Y, out)   # plot the contour\n",
    "    ion()   # interactive graphics on\n",
    "    draw()  # update the plot"
   ]
  },
  {
   "cell_type": "markdown",
   "metadata": {},
   "source": [
    "At last, show the plot:"
   ]
  },
  {
   "cell_type": "code",
   "execution_count": 25,
   "metadata": {
    "collapsed": false
   },
   "outputs": [
    {
     "data": {
      "image/png": "[encoded data removed]",
      "text/plain": [
       "<matplotlib.figure.Figure at 0x108a5bd10>"
      ]
     },
     "metadata": {},
     "output_type": "display_data"
    }
   ],
   "source": [
    "ioff()\n",
    "show()"
   ]
  },
  {
   "cell_type": "markdown",
   "metadata": {},
   "source": [
    "From the plot above we can see clearly that there are roughly three groups of data points, around (-1,0),(2,4),(3,1), and the Feed-Forward Neural Networks successfully classify them into three parts around these three points as desired."
   ]
  },
  {
   "cell_type": "markdown",
   "metadata": {},
   "source": [
    "## Summary and references"
   ]
  },
  {
   "cell_type": "markdown",
   "metadata": {},
   "source": [
    "This tutorial gives a glimpse of how to use this powerful PyBrain library. PyBrain has lots of pre-solved functions and models for effectively building your network and training. During the process of making this tutorial, I've leart a lot about neural network, statistical distribution and machine learning algorithm. As a sophomore students, due to the lack of machine learning background, I only studied and learnt a very small part of the whole PyBrain library. Much more details are available from the links in the main text and as follows:\n",
    "\n",
    "1. PyBrain documentation: http://pybrain.org/docs/index.html\n",
    "2. Random Sampling: https://docs.scipy.org/doc/numpy-1.10.1/reference/routines.random.html\n",
    "3. Multivariate normal distribution: https://en.wikipedia.org/wiki/Multivariate_normal_distribution"
   ]
  },
  {
   "cell_type": "code",
   "execution_count": null,
   "metadata": {
    "collapsed": true
   },
   "outputs": [],
   "source": []
  }
 ],
 "metadata": {
  "anaconda-cloud": {},
  "kernelspec": {
   "display_name": "Python 2",
   "language": "python",
   "name": "python2"
  },
  "language_info": {
   "codemirror_mode": {
    "name": "ipython",
    "version": 2
   },
   "file_extension": ".py",
   "mimetype": "text/x-python",
   "name": "python",
   "nbconvert_exporter": "python",
   "pygments_lexer": "ipython2",
   "version": "2.7.11"
  }
 },
 "nbformat": 4,
 "nbformat_minor": 0
}
